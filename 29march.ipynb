{
  "nbformat": 4,
  "nbformat_minor": 0,
  "metadata": {
    "colab": {
      "provenance": []
    },
    "kernelspec": {
      "name": "python3",
      "display_name": "Python 3"
    },
    "language_info": {
      "name": "python"
    }
  },
  "cells": [
    {
      "cell_type": "markdown",
      "source": [
        " Create a list of first 10 natural numbers. And write a program to find the lists of odd numbers and even numbers separately. And, to find the square of its odd and even lists."
      ],
      "metadata": {
        "id": "UU1mpQL0IgYn"
      }
    },
    {
      "cell_type": "code",
      "execution_count": 1,
      "metadata": {
        "colab": {
          "base_uri": "https://localhost:8080/"
        },
        "id": "NXUNWifnIedW",
        "outputId": "0a1a2164-e9a3-4452-f01b-6ea40e1628dc"
      },
      "outputs": [
        {
          "output_type": "stream",
          "name": "stdout",
          "text": [
            "Odd numbers: [1, 3, 5, 7, 9]\n",
            "Even numbers: [2, 4, 6, 8, 10]\n",
            "Squares of odd numbers: [1, 9, 25, 49, 81]\n",
            "Squares of even numbers: [4, 16, 36, 64, 100]\n"
          ]
        }
      ],
      "source": [
        "\n",
        "numbers = [1, 2, 3, 4, 5, 6, 7, 8, 9, 10]\n",
        "\n",
        "odd_numbers = [num for num in numbers if num % 2 != 0]\n",
        "even_numbers = [num for num in numbers if num % 2 == 0]\n",
        "\n",
        "odd_squares = [num ** 2 for num in odd_numbers]\n",
        "even_squares = [num ** 2 for num in even_numbers]\n",
        "\n",
        "print(\"Odd numbers:\", odd_numbers)\n",
        "print(\"Even numbers:\", even_numbers)\n",
        "print(\"Squares of odd numbers:\", odd_squares)\n",
        "print(\"Squares of even numbers:\", even_squares)\n",
        "\n"
      ]
    },
    {
      "cell_type": "markdown",
      "source": [
        "\n",
        "Write a program to find the largest and smallest number in the list without using the in-built function."
      ],
      "metadata": {
        "id": "tQy8evLHJHLF"
      }
    },
    {
      "cell_type": "code",
      "source": [
        "def find_largest_and_smallest(numbers):\n",
        "    if len(numbers) == 0:\n",
        "        return None, None\n",
        "\n",
        "    largest = numbers[0]\n",
        "    smallest = numbers[0]\n",
        "\n",
        "    for number in numbers:\n",
        "        if number > largest:\n",
        "            largest = number\n",
        "        if number < smallest:\n",
        "            smallest = number\n",
        "\n",
        "    return largest, smallest\n",
        "\n",
        "numbers = [34, -50, 23, 0, 89, -345, 27]\n",
        "largest, smallest = find_largest_and_smallest(numbers)\n",
        "print(\"Largest number:\", largest)\n",
        "print(\"Smallest number:\", smallest)\n",
        "\n"
      ],
      "metadata": {
        "colab": {
          "base_uri": "https://localhost:8080/"
        },
        "id": "RAO7ii9MJP4w",
        "outputId": "0d2c75d7-9a45-436e-d774-401c0b21c72e"
      },
      "execution_count": 2,
      "outputs": [
        {
          "output_type": "stream",
          "name": "stdout",
          "text": [
            "Largest number: 89\n",
            "Smallest number: -345\n"
          ]
        }
      ]
    },
    {
      "cell_type": "markdown",
      "source": [
        "Write a program to find the second largest and second smallest number in the list without using the in-built function."
      ],
      "metadata": {
        "id": "t7w5IAQ7JZXG"
      }
    },
    {
      "cell_type": "code",
      "source": [
        "def find_second_largest_and_smallest(numbers):\n",
        "    if len(numbers) < 2:\n",
        "        return None, None\n",
        "\n",
        "    if numbers[0] > numbers[1]:\n",
        "        largest = numbers[0]\n",
        "        second_largest = numbers[1]\n",
        "        smallest = numbers[1]\n",
        "        second_smallest = numbers[0]\n",
        "    else:\n",
        "        largest = numbers[1]\n",
        "        second_largest = numbers[0]\n",
        "        smallest = numbers[0]\n",
        "        second_smallest = numbers[1]\n",
        "\n",
        "    for i in range(2, len(numbers)):\n",
        "        number = numbers[i]\n",
        "\n",
        "        if number > largest:\n",
        "            second_largest = largest\n",
        "            largest = number\n",
        "        elif number > second_largest:\n",
        "            second_largest = number\n",
        "\n",
        "        if number < smallest:\n",
        "            second_smallest = smallest\n",
        "            smallest = number\n",
        "        elif number < second_smallest:\n",
        "            second_smallest = number\n",
        "\n",
        "    return second_largest, second_smallest\n",
        "\n",
        "numbers = [34, -50, 23, 0, 89, -345, 27]\n",
        "second_largest, second_smallest = find_second_largest_and_smallest(numbers)\n",
        "print(\"Second largest number:\", second_largest)\n",
        "print(\"Second smallest number:\", second_smallest)\n",
        "\n"
      ],
      "metadata": {
        "colab": {
          "base_uri": "https://localhost:8080/"
        },
        "id": "u_j1XSboJa0m",
        "outputId": "42f6504c-50db-42de-849a-6d4b9578d323"
      },
      "execution_count": 3,
      "outputs": [
        {
          "output_type": "stream",
          "name": "stdout",
          "text": [
            "Second largest number: 34\n",
            "Second smallest number: -50\n"
          ]
        }
      ]
    },
    {
      "cell_type": "markdown",
      "source": [
        "Write a program to sort elements stored in the list as Ascending order and Descending order without using the in-built function (sort ())."
      ],
      "metadata": {
        "id": "QbRbqlAOJg0u"
      }
    },
    {
      "cell_type": "code",
      "source": [
        "def bubble_sort_ascending(numbers):\n",
        "    n = len(numbers)\n",
        "    for i in range(n):\n",
        "        for j in range(0, n-i-1):\n",
        "            if numbers[j] > numbers[j+1]:\n",
        "                numbers[j], numbers[j+1] = numbers[j+1], numbers[j]\n",
        "    return numbers\n",
        "\n",
        "def bubble_sort_descending(numbers):\n",
        "    n = len(numbers)\n",
        "    for i in range(n):\n",
        "        for j in range(0, n-i-1):\n",
        "            if numbers[j] < numbers[j+1]:\n",
        "                numbers[j], numbers[j+1] = numbers[j+1], numbers[j]\n",
        "    return numbers\n",
        "\n",
        "numbers = [5, 3, 7, 9, 8, 4, 2]\n",
        "\n",
        "sorted_ascending = bubble_sort_ascending(numbers.copy())\n",
        "print(\"Ascending Order:\", sorted_ascending)\n",
        "\n",
        "sorted_descending = bubble_sort_descending(numbers.copy())\n",
        "print(\"Descending Order:\", sorted_descending)\n",
        "\n"
      ],
      "metadata": {
        "colab": {
          "base_uri": "https://localhost:8080/"
        },
        "id": "R98mFWneJmpM",
        "outputId": "288ccbf5-b81a-44a7-9072-3d2e882f7987"
      },
      "execution_count": 4,
      "outputs": [
        {
          "output_type": "stream",
          "name": "stdout",
          "text": [
            "Ascending Order: [2, 3, 4, 5, 7, 8, 9]\n",
            "Descending Order: [9, 8, 7, 5, 4, 3, 2]\n"
          ]
        }
      ]
    },
    {
      "cell_type": "markdown",
      "source": [
        "Find the index position of the specific number stored in the list."
      ],
      "metadata": {
        "id": "JeppZw_qKJ1T"
      }
    },
    {
      "cell_type": "code",
      "source": [
        "def find_index(numbers, target):\n",
        "    for i in range(len(numbers)):\n",
        "        if numbers[i] == target:\n",
        "            return i\n",
        "    return -1\n",
        "\n",
        "a = [45, 67, 83, 24, 55, 87, 77, 34]\n",
        "target = 55\n",
        "position = find_index(a, target)\n",
        "print(\"Position of\", target, \":\", position)\n",
        "\n"
      ],
      "metadata": {
        "colab": {
          "base_uri": "https://localhost:8080/"
        },
        "id": "MKGFpMAjKLEY",
        "outputId": "71018e6a-bb3c-435b-e226-e3a1a0c8f6d2"
      },
      "execution_count": 5,
      "outputs": [
        {
          "output_type": "stream",
          "name": "stdout",
          "text": [
            "Position of 55 : 4\n"
          ]
        }
      ]
    },
    {
      "cell_type": "markdown",
      "source": [
        "Find most frequent element present in a list."
      ],
      "metadata": {
        "id": "Os1yj7aIKVfC"
      }
    },
    {
      "cell_type": "code",
      "source": [
        "def most_frequent_element(numbers):\n",
        "    if not numbers:\n",
        "        return None\n",
        "\n",
        "    frequency = {}\n",
        "    max_count = 0\n",
        "    most_frequent = numbers[0]\n",
        "\n",
        "    for number in numbers:\n",
        "        if number in frequency:\n",
        "            frequency[number] += 1\n",
        "        else:\n",
        "            frequency[number] = 1\n",
        "\n",
        "        if frequency[number] > max_count:\n",
        "            max_count = frequency[number]\n",
        "            most_frequent = number\n",
        "\n",
        "    return most_frequent\n",
        "\n",
        "\n",
        "a = [4, 5, 6, 4, 6, 7, 4, 2, 4, 8, 4]\n",
        "result = most_frequent_element(a)\n",
        "print(\"Most frequent element:\", result)\n",
        "\n"
      ],
      "metadata": {
        "colab": {
          "base_uri": "https://localhost:8080/"
        },
        "id": "ibODb8CDKWxO",
        "outputId": "b78597ba-f0cd-4a11-f3e0-5b21b54dbc6e"
      },
      "execution_count": 6,
      "outputs": [
        {
          "output_type": "stream",
          "name": "stdout",
          "text": [
            "Most frequent element: 4\n"
          ]
        }
      ]
    },
    {
      "cell_type": "markdown",
      "source": [
        " Below are the two lists. Write a Python program to convert them into a dictionary in a way that item from list1 is the key and item from list2 is the value by using update method ()"
      ],
      "metadata": {
        "id": "Lqdc-4wfKb7a"
      }
    },
    {
      "cell_type": "code",
      "source": [
        "keys = ['Ten', 'Twenty', 'Thirty']\n",
        "values = [10, 20, 30]\n",
        "\n",
        "dictionary = {}\n",
        "\n",
        "for key, value in zip(keys, values):\n",
        "    dictionary.update({key: value})\n",
        "\n",
        "print(dictionary)\n",
        "\n"
      ],
      "metadata": {
        "colab": {
          "base_uri": "https://localhost:8080/"
        },
        "id": "vaYGOQFoKmDb",
        "outputId": "e75c71d1-0a22-43b4-8454-63c8ddfc3ace"
      },
      "execution_count": 7,
      "outputs": [
        {
          "output_type": "stream",
          "name": "stdout",
          "text": [
            "{'Ten': 10, 'Twenty': 20, 'Thirty': 30}\n"
          ]
        }
      ]
    },
    {
      "cell_type": "markdown",
      "source": [
        "Create a list of 10 members as a Voter_list. Assume that there are 3 Candidates (A, B & C) are going to contest in the election process. Write a program that voters will cast their votes and predict the Winner and Runner of the election process and to find the members who voted for the Winner and Runner."
      ],
      "metadata": {
        "id": "Rr4qwDMoKuf7"
      }
    },
    {
      "cell_type": "code",
      "source": [
        "import random\n",
        "\n",
        "def cast_votes(voter_list, candidates):\n",
        "    votes = {}\n",
        "    for voter in voter_list:\n",
        "        vote = random.choice(candidates)\n",
        "        if vote in votes:\n",
        "            votes[vote].append(voter)\n",
        "        else:\n",
        "            votes[vote] = [voter]\n",
        "    return votes\n",
        "\n",
        "def determine_winner_and_runner(votes):\n",
        "    vote_counts = {candidate: len(voters) for candidate, voters in votes.items()}\n",
        "    sorted_candidates = sorted(vote_counts.items(), key=lambda item: item[1], reverse=True)\n",
        "\n",
        "    winner = sorted_candidates[0][0]\n",
        "    runner_up = sorted_candidates[1][0]\n",
        "\n",
        "    return winner, runner_up\n",
        "\n",
        "def main():\n",
        "    voter_list = ['Voter1', 'Voter2', 'Voter3', 'Voter4', 'Voter5',\n",
        "                  'Voter6', 'Voter7', 'Voter8', 'Voter9', 'Voter10']\n",
        "    candidates = ['A', 'B', 'C']\n",
        "\n",
        "\n",
        "    votes = cast_votes(voter_list, candidates)\n",
        "\n",
        "\n",
        "    winner, runner_up = determine_winner_and_runner(votes)\n",
        "\n",
        "\n",
        "    print(\"Votes:\", votes)\n",
        "    print(\"Winner:\", winner, \"with voters:\", votes[winner])\n",
        "    print(\"Runner-Up:\", runner_up, \"with voters:\", votes[runner_up])\n",
        "\n",
        "if __name__ == \"__main__\":\n",
        "    main()\n",
        "\n"
      ],
      "metadata": {
        "colab": {
          "base_uri": "https://localhost:8080/"
        },
        "id": "c2qEYusbK2GN",
        "outputId": "4c67ea77-ff87-4da4-dc2f-2e601a71a12e"
      },
      "execution_count": 8,
      "outputs": [
        {
          "output_type": "stream",
          "name": "stdout",
          "text": [
            "Votes: {'C': ['Voter1', 'Voter6'], 'A': ['Voter2', 'Voter8'], 'B': ['Voter3', 'Voter4', 'Voter5', 'Voter7', 'Voter9', 'Voter10']}\n",
            "Winner: B with voters: ['Voter3', 'Voter4', 'Voter5', 'Voter7', 'Voter9', 'Voter10']\n",
            "Runner-Up: C with voters: ['Voter1', 'Voter6']\n"
          ]
        }
      ]
    }
  ]
}